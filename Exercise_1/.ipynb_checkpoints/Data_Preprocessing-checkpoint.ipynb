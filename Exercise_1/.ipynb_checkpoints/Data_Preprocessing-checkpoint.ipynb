{
 "cells": [
  {
   "cell_type": "markdown",
   "id": "c6e550bd-9b96-4458-8a0f-67a5717e415a",
   "metadata": {},
   "source": [
    "### Introduction\n",
    "\n",
    "This notebook implements pre-processing on the hospital dataset.\n",
    "\n",
    "There are some columns with text values. For some of the columns there is an ordering between values. Therefore, we consider different encoding.\n",
    "\n",
    "In the first cell, we import all required packages.\n"
   ]
  },
  {
   "cell_type": "code",
   "execution_count": null,
   "id": "068a57c5-711a-46c5-bfe8-7d861d0a1dbc",
   "metadata": {},
   "outputs": [],
   "source": [
    "import pandas as pd # For reading and manipulating dataframes\n",
    "from sklearn.preprocessing import LabelEncoder# For encoding the text values.\n",
    "import numpy as np\n",
    "import matplotlib.pyplot as plt"
   ]
  },
  {
   "cell_type": "markdown",
   "id": "ca848707-4d66-4726-83eb-92017575be6e",
   "metadata": {},
   "source": [
    "# Data Manipulation\n",
    "\n",
    "In the following cell, we:\n",
    "\n",
    "1- load the original csv file. \n",
    "\n",
    "2- Apply one-hot encoding on the feature columns expet 'Severity of Illness'\n",
    "\n",
    "3- Apply uinuqe encoding on two columns 'Severity of Illness' and Stay\n",
    "\n",
    "4- Change the order of the columns."
   ]
  },
  {
   "cell_type": "code",
   "execution_count": null,
   "id": "0a439074-2bb6-4baf-9b5c-19969c32d8dc",
   "metadata": {},
   "outputs": [],
   "source": [
    "# Here, we load the dataset\n",
    "df = pd.read_csv(\"hospital_stay_data.csv\")\n",
    "\n",
    "# Columns to be converted to one-hot encoded. We use one-hot encoding,\n",
    "#becuse it shows the relationship among present or absent of a given feature (value)\n",
    "categorical_columns = ['Hospital_type_code', 'Hospital_region_code', 'Department', \n",
    "                       'Ward_Type', 'Ward_Facility_Code', 'Type of Admission', 'Age']\n",
    "df_encoded = pd.get_dummies(df, columns=categorical_columns) # converts categorical variable(s) into indicator variables.\n",
    "one_hot_columns = df_encoded.columns.difference(df.columns).tolist() # retrive new added columns. This is for the another command \n",
    "# in the below, which is for chaning the type of the new columns into int.\n",
    "df_encoded[one_hot_columns] = df_encoded[one_hot_columns].astype(int)\n",
    "\n",
    "# target column to be converted into uinuqe encoding, There is an ordering relationship among the values of these columns.\n",
    "le = LabelEncoder()\n",
    "df_encoded['Severity of Illness'] = le.fit_transform(df_encoded['Severity of Illness'])\n",
    "df_encoded['Stay'] = le.fit_transform(df_encoded['Stay'])\n",
    "\n",
    "# Chaning the order of some columns some columns. The new created columns in above are added to the latest columns. However, we\n",
    "# would like to have labels as the last columns.\n",
    "column_to_move = 'Stay'\n",
    "df_encoded = df_encoded[[col for col in df_encoded.columns if col != column_to_move] + [column_to_move]]\n",
    "# This column named 'patientid' is not required as input for machine learning model. We move it to the first columns.\n",
    "#Alos, we can drop it.\n",
    "column_to_move = 'patientid'\n",
    "cols = df_encoded.columns.tolist()\n",
    "cols.insert(1, cols.pop(cols.index(column_to_move)))  # Move the specified column to the second position\n",
    "df_encoded = df_encoded[cols]"
   ]
  },
  {
   "cell_type": "markdown",
   "id": "04df483e-4f06-4d03-94b2-99f9c1b961ae",
   "metadata": {},
   "source": [
    "### Imbalanced Data\n",
    "\n",
    "In this sectiontion, we investigate the number of samples per class to see if there is any imblance issue among the classes.\n",
    "As we can see in the output, the dataset is extremly imblanced!!! "
   ]
  },
  {
   "cell_type": "code",
   "execution_count": null,
   "id": "0c65e1da-0136-4d82-8637-2829c7f9f699",
   "metadata": {},
   "outputs": [],
   "source": [
    "class_counts = df_encoded['Stay'].value_counts()\n",
    "x = np.arange(len(class_counts))\n",
    "plt.bar(x,class_counts)\n",
    "plt.xlabel('Classes')\n",
    "plt.ylabel('Number of Samples')\n",
    "print(class_counts)\n"
   ]
  },
  {
   "cell_type": "markdown",
   "id": "42dfd0cf-6dda-4fc5-9106-83e38b2756ad",
   "metadata": {},
   "source": [
    "### Missied values\n",
    "\n",
    "In this section, we investigate whether there are records with some missed values. Therefore, we can drom those records as one of options."
   ]
  },
  {
   "cell_type": "code",
   "execution_count": null,
   "id": "86468c48-9266-4cf1-a3f1-d38bb1caadce",
   "metadata": {},
   "outputs": [],
   "source": [
    "print('Total amount of samples ',len(df_encoded))\n",
    "for column in df_encoded.columns:\n",
    "    nan_count = df_encoded[column].isna().sum()\n",
    "    print(column,nan_count)"
   ]
  },
  {
   "cell_type": "markdown",
   "id": "94bd150b-e840-488d-b74c-c5a187965aba",
   "metadata": {},
   "source": [
    "### Removing records with those missed values and saving the resulted preprocessed dataframe"
   ]
  },
  {
   "cell_type": "code",
   "execution_count": null,
   "id": "949d0131-2e47-43c0-89b1-c59d65f7823c",
   "metadata": {},
   "outputs": [],
   "source": [
    "#Drop records with nan value\n",
    "df_encoded = df_encoded.dropna()\n",
    "df_encoded.to_csv('preprocessed_hospital_stay_data.csv', index=False)"
   ]
  },
  {
   "cell_type": "code",
   "execution_count": null,
   "id": "06697082-dae7-4a42-926a-1759a6f3d0e9",
   "metadata": {},
   "outputs": [],
   "source": [
    "# Grouping records based on Patient ID. In the excersice description file, it is mentioned that some of patients are repeated.\n",
    "# We just group the patients based on their id to see if the sample are redunndent or not.\n",
    "\n",
    "df_similar_patientid = df_encoded.groupby('patientid').filter(lambda x: len(x) > 1)\n",
    "\n",
    "print(\"\\nRecords with similar patientid:\")\n",
    "print(df_similar_patientid)"
   ]
  }
 ],
 "metadata": {
  "kernelspec": {
   "display_name": "Python 3 (ipykernel)",
   "language": "python",
   "name": "python3"
  },
  "language_info": {
   "codemirror_mode": {
    "name": "ipython",
    "version": 3
   },
   "file_extension": ".py",
   "mimetype": "text/x-python",
   "name": "python",
   "nbconvert_exporter": "python",
   "pygments_lexer": "ipython3",
   "version": "3.9.19"
  }
 },
 "nbformat": 4,
 "nbformat_minor": 5
}
