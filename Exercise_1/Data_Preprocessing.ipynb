{
 "cells": [
  {
   "cell_type": "markdown",
   "id": "c6e550bd-9b96-4458-8a0f-67a5717e415a",
   "metadata": {},
   "source": [
    "### Introduction\n",
    "\n",
    "This notebook implements pre-processing on the hospital dataset.\n",
    "\n",
    "There are some columns with text values. For some of the columns there is an ordering between values. Therefore, we consider different encoding.\n",
    "\n",
    "In the first cell, we import all required packages.\n"
   ]
  },
  {
   "cell_type": "code",
   "execution_count": 1,
   "id": "068a57c5-711a-46c5-bfe8-7d861d0a1dbc",
   "metadata": {},
   "outputs": [],
   "source": [
    "import pandas as pd # For reading and manipulating dataframes\n",
    "from sklearn.preprocessing import LabelEncoder# For encoding the text values.\n",
    "import numpy as np\n",
    "import matplotlib.pyplot as plt"
   ]
  },
  {
   "cell_type": "markdown",
   "id": "ca848707-4d66-4726-83eb-92017575be6e",
   "metadata": {},
   "source": [
    "# Data Manipulation\n",
    "\n",
    "In the following cell, we:\n",
    "\n",
    "1- load the original csv file. \n",
    "\n",
    "2- Apply one-hot encoding on the feature columns expet 'Severity of Illness'\n",
    "\n",
    "3- Apply uinuqe encoding on two columns 'Severity of Illness' and Stay\n",
    "\n",
    "4- Change the order of the columns."
   ]
  },
  {
   "cell_type": "code",
   "execution_count": 2,
   "id": "0a439074-2bb6-4baf-9b5c-19969c32d8dc",
   "metadata": {},
   "outputs": [],
   "source": [
    "# Here, we load the dataset\n",
    "df = pd.read_csv(\"hospital_stay_data.csv\")\n",
    "\n",
    "# Columns to be converted to one-hot encoded. We use one-hot encoding,\n",
    "#becuse it shows the relationship among present or absent of a given feature (value)\n",
    "categorical_columns = ['Hospital_type_code', 'Hospital_region_code', 'Department', \n",
    "                       'Ward_Type', 'Ward_Facility_Code', 'Type of Admission', 'Age']\n",
    "df_encoded = pd.get_dummies(df, columns=categorical_columns) # converts categorical variable(s) into indicator variables.\n",
    "one_hot_columns = df_encoded.columns.difference(df.columns).tolist() # retrive new added columns. This is for the another command \n",
    "# in the below, which is for chaning the type of the new columns into int.\n",
    "df_encoded[one_hot_columns] = df_encoded[one_hot_columns].astype(int)\n",
    "\n",
    "# target column to be converted into uinuqe encoding, There is an ordering relationship among the values of these columns.\n",
    "le = LabelEncoder()\n",
    "df_encoded['Severity of Illness'] = le.fit_transform(df_encoded['Severity of Illness'])\n",
    "df_encoded['Stay'] = le.fit_transform(df_encoded['Stay'])\n",
    "\n",
    "# Chaning the order of some columns some columns. The new created columns in above are added to the latest columns. However, we\n",
    "# would like to have labels as the last columns.\n",
    "column_to_move = 'Stay'\n",
    "df_encoded = df_encoded[[col for col in df_encoded.columns if col != column_to_move] + [column_to_move]]\n",
    "# This column named 'patientid' is not required as input for machine learning model. We move it to the first columns.\n",
    "#Alos, we can drop it.\n",
    "column_to_move = 'patientid'\n",
    "cols = df_encoded.columns.tolist()\n",
    "cols.insert(1, cols.pop(cols.index(column_to_move)))  # Move the specified column to the second position\n",
    "df_encoded = df_encoded[cols]"
   ]
  },
  {
   "cell_type": "markdown",
   "id": "04df483e-4f06-4d03-94b2-99f9c1b961ae",
   "metadata": {},
   "source": [
    "### Imbalanced Data\n",
    "\n",
    "In this sectiontion, we investigate the number of samples per class to see if there is any imblance issue among the classes.\n",
    "As we can see in the output, the dataset is extremly imblanced!!! "
   ]
  },
  {
   "cell_type": "code",
   "execution_count": 3,
   "id": "0c65e1da-0136-4d82-8637-2829c7f9f699",
   "metadata": {},
   "outputs": [
    {
     "name": "stdout",
     "output_type": "stream",
     "text": [
      "Stay\n",
      "2     87491\n",
      "1     78139\n",
      "3     55159\n",
      "5     35018\n",
      "0     23604\n",
      "4     11743\n",
      "7     10254\n",
      "10     6683\n",
      "8      4838\n",
      "9      2765\n",
      "6      2744\n",
      "Name: count, dtype: int64\n"
     ]
    },
    {
     "data": {
      "image/png": "[encoded data removed]",
      "text/plain": [
       "<Figure size 640x480 with 1 Axes>"
      ]
     },
     "metadata": {},
     "output_type": "display_data"
    }
   ],
   "source": [
    "class_counts = df_encoded['Stay'].value_counts()\n",
    "x = np.arange(len(class_counts))\n",
    "plt.bar(x,class_counts)\n",
    "plt.xlabel('Classes')\n",
    "plt.ylabel('Number of Samples')\n",
    "print(class_counts)\n"
   ]
  },
  {
   "cell_type": "markdown",
   "id": "42dfd0cf-6dda-4fc5-9106-83e38b2756ad",
   "metadata": {},
   "source": [
    "### Missied values\n",
    "\n",
    "In this section, we investigate whether there are records with some missed values. Therefore, we can drom those records as one of options."
   ]
  },
  {
   "cell_type": "code",
   "execution_count": 4,
   "id": "86468c48-9266-4cf1-a3f1-d38bb1caadce",
   "metadata": {},
   "outputs": [
    {
     "name": "stdout",
     "output_type": "stream",
     "text": [
      "Total amount of samples  318438\n",
      "case_id 0\n",
      "patientid 0\n",
      "Hospital_code 0\n",
      "City_Code_Hospital 0\n",
      "Available Extra Rooms in Hospital 0\n",
      "Bed Grade 113\n",
      "City_Code_Patient 4532\n",
      "Severity of Illness 0\n",
      "Visitors with Patient 0\n",
      "Admission_Deposit 0\n",
      "Hospital_type_code_a 0\n",
      "Hospital_type_code_b 0\n",
      "Hospital_type_code_c 0\n",
      "Hospital_type_code_d 0\n",
      "Hospital_type_code_e 0\n",
      "Hospital_type_code_f 0\n",
      "Hospital_type_code_g 0\n",
      "Hospital_region_code_X 0\n",
      "Hospital_region_code_Y 0\n",
      "Hospital_region_code_Z 0\n",
      "Department_TB & Chest disease 0\n",
      "Department_anesthesia 0\n",
      "Department_gynecology 0\n",
      "Department_radiotherapy 0\n",
      "Department_surgery 0\n",
      "Ward_Type_P 0\n",
      "Ward_Type_Q 0\n",
      "Ward_Type_R 0\n",
      "Ward_Type_S 0\n",
      "Ward_Type_T 0\n",
      "Ward_Type_U 0\n",
      "Ward_Facility_Code_A 0\n",
      "Ward_Facility_Code_B 0\n",
      "Ward_Facility_Code_C 0\n",
      "Ward_Facility_Code_D 0\n",
      "Ward_Facility_Code_E 0\n",
      "Ward_Facility_Code_F 0\n",
      "Type of Admission_Emergency 0\n",
      "Type of Admission_Trauma 0\n",
      "Type of Admission_Urgent 0\n",
      "Age_0-10 0\n",
      "Age_11-20 0\n",
      "Age_21-30 0\n",
      "Age_31-40 0\n",
      "Age_41-50 0\n",
      "Age_51-60 0\n",
      "Age_61-70 0\n",
      "Age_71-80 0\n",
      "Age_81-90 0\n",
      "Age_91-100 0\n",
      "Stay 0\n"
     ]
    }
   ],
   "source": [
    "print('Total amount of samples ',len(df_encoded))\n",
    "for column in df_encoded.columns:\n",
    "    nan_count = df_encoded[column].isna().sum()\n",
    "    print(column,nan_count)"
   ]
  },
  {
   "cell_type": "markdown",
   "id": "94bd150b-e840-488d-b74c-c5a187965aba",
   "metadata": {},
   "source": [
    "### Removing records with those missed values and saving the resulted preprocessed dataframe"
   ]
  },
  {
   "cell_type": "code",
   "execution_count": 5,
   "id": "949d0131-2e47-43c0-89b1-c59d65f7823c",
   "metadata": {},
   "outputs": [],
   "source": [
    "#Drop records with nan value\n",
    "df_encoded = df_encoded.dropna()\n",
    "df_encoded.to_csv('preprocessed_hospital_stay_data.csv', index=False)"
   ]
  },
  {
   "cell_type": "code",
   "execution_count": 6,
   "id": "06697082-dae7-4a42-926a-1759a6f3d0e9",
   "metadata": {},
   "outputs": [
    {
     "name": "stdout",
     "output_type": "stream",
     "text": [
      "\n",
      "Records with similar patientid:\n",
      "        case_id  patientid  Hospital_code  City_Code_Hospital  \\\n",
      "0             1      31397              8                   3   \n",
      "1             2      31397              2                   5   \n",
      "2             3      31397             10                   1   \n",
      "3             4      31397             26                   2   \n",
      "4             5      31397             26                   2   \n",
      "...         ...        ...            ...                 ...   \n",
      "318348   318349      88623             25                   1   \n",
      "318362   318363       2862             12                   9   \n",
      "318363   318364       2862             22                   9   \n",
      "318377   318378      58605             12                   9   \n",
      "318378   318379      58605             32                   9   \n",
      "\n",
      "        Available Extra Rooms in Hospital  Bed Grade  City_Code_Patient  \\\n",
      "0                                       3        2.0                7.0   \n",
      "1                                       2        2.0                7.0   \n",
      "2                                       2        2.0                7.0   \n",
      "3                                       2        2.0                7.0   \n",
      "4                                       2        2.0                7.0   \n",
      "...                                   ...        ...                ...   \n",
      "318348                                  2        4.0                7.0   \n",
      "318362                                  2        2.0                7.0   \n",
      "318363                                  2        2.0                7.0   \n",
      "318377                                  4        2.0                9.0   \n",
      "318378                                  4        2.0                9.0   \n",
      "\n",
      "        Severity of Illness  Visitors with Patient  Admission_Deposit  ...  \\\n",
      "0                         0                      2             4911.0  ...   \n",
      "1                         0                      2             5954.0  ...   \n",
      "2                         0                      2             4745.0  ...   \n",
      "3                         0                      2             7272.0  ...   \n",
      "4                         0                      2             5558.0  ...   \n",
      "...                     ...                    ...                ...  ...   \n",
      "318348                    1                      2             4616.0  ...   \n",
      "318362                    1                      2             3886.0  ...   \n",
      "318363                    1                      2             4163.0  ...   \n",
      "318377                    2                      2             4984.0  ...   \n",
      "318378                    2                      2             4823.0  ...   \n",
      "\n",
      "        Age_11-20  Age_21-30  Age_31-40  Age_41-50  Age_51-60  Age_61-70  \\\n",
      "0               0          0          0          0          1          0   \n",
      "1               0          0          0          0          1          0   \n",
      "2               0          0          0          0          1          0   \n",
      "3               0          0          0          0          1          0   \n",
      "4               0          0          0          0          1          0   \n",
      "...           ...        ...        ...        ...        ...        ...   \n",
      "318348          0          0          0          0          0          1   \n",
      "318362          0          0          0          0          0          0   \n",
      "318363          0          0          0          0          0          0   \n",
      "318377          0          1          0          0          0          0   \n",
      "318378          0          1          0          0          0          0   \n",
      "\n",
      "        Age_71-80  Age_81-90  Age_91-100  Stay  \n",
      "0               0          0           0     0  \n",
      "1               0          0           0     4  \n",
      "2               0          0           0     3  \n",
      "3               0          0           0     4  \n",
      "4               0          0           0     4  \n",
      "...           ...        ...         ...   ...  \n",
      "318348          0          0           0     1  \n",
      "318362          0          0           0     3  \n",
      "318363          0          0           0     2  \n",
      "318377          0          0           0     2  \n",
      "318378          0          0           0     1  \n",
      "\n",
      "[293982 rows x 51 columns]\n"
     ]
    }
   ],
   "source": [
    "# Grouping records based on Patient ID. In the excersice description file, it is mentioned that some of patients are repeated.\n",
    "# We just group the patients based on their id to see if the sample are redunndent or not.\n",
    "\n",
    "df_similar_patientid = df_encoded.groupby('patientid').filter(lambda x: len(x) > 1)\n",
    "\n",
    "print(\"\\nRecords with similar patientid:\")\n",
    "print(df_similar_patientid)"
   ]
  }
 ],
 "metadata": {
  "kernelspec": {
   "display_name": "Python 3 (ipykernel)",
   "language": "python",
   "name": "python3"
  },
  "language_info": {
   "codemirror_mode": {
    "name": "ipython",
    "version": 3
   },
   "file_extension": ".py",
   "mimetype": "text/x-python",
   "name": "python",
   "nbconvert_exporter": "python",
   "pygments_lexer": "ipython3",
   "version": "3.9.19"
  }
 },
 "nbformat": 4,
 "nbformat_minor": 5
}
